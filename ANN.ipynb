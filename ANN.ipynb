{
  "cells": [
    {
      "cell_type": "markdown",
      "metadata": {
        "id": "view-in-github",
        "colab_type": "text"
      },
      "source": [
        "<a href=\"https://colab.research.google.com/github/meghanak-27/skinDisease/blob/main/ANN.ipynb\" target=\"_parent\"><img src=\"https://colab.research.google.com/assets/colab-badge.svg\" alt=\"Open In Colab\"/></a>"
      ]
    },
    {
      "cell_type": "code",
      "source": [
        "!git clone https://github.com/meghanak-27/skinDisease\n"
      ],
      "metadata": {
        "id": "4w1ha7dSvVfS",
        "outputId": "0bcc7c76-ee38-40cd-d2f3-cdafd3f2ae8b",
        "colab": {
          "base_uri": "https://localhost:8080/"
        }
      },
      "execution_count": 91,
      "outputs": [
        {
          "output_type": "stream",
          "name": "stdout",
          "text": [
            "fatal: destination path 'skinDisease' already exists and is not an empty directory.\n"
          ]
        }
      ]
    },
    {
      "cell_type": "code",
      "source": [
        "\n",
        "import pandas as pd\n",
        "# from PIL import Image\n",
        "import cv2\n",
        "import numpy as np\n",
        "import os\n",
        "\n",
        "\n",
        "class driveFile:\n",
        "\n",
        "  def __init__(self, mountpath):\n",
        "    import os\n",
        "    self.path = mountpath\n",
        "    from google.colab import drive\n",
        "    drive.mount(self.path, force_remount=True)\n",
        "  def dataload(self,folder_path):\n",
        "    img=[]\n",
        "    label=[]\n",
        "    import os\n",
        "    self.path1=os.path.join(self.path,folder_path)\n",
        "\n",
        "    if os.path.exists(self.path1):\n",
        "      for i in os.listdir(self.path1):\n",
        "        self.dis_path=os.path.join(self.path1,i)\n",
        "        # /content/drive/MyDrive/train_set/BA- cellulitis\n",
        "        if os.path.exists(self.dis_path) and '.DS_Store' not in self.dis_path:\n",
        "          for j in os.listdir(self.dis_path):\n",
        "           if j.endswith(('.jpg', '.png', '.jpeg')):\n",
        "              self.img_path = os.path.join(self.dis_path, j)\n",
        "              loaded_img= self.imgload(self.img_path)\n",
        "              if loaded_img is not None:\n",
        "                img.append(loaded_img)\n",
        "                label.append(i)\n",
        "              else:\n",
        "                 print(\"Skipping non-image file:\", j)\n",
        "          else:\n",
        "              print(\"Skipping invalid path or .DS_Store:\", self.dis_path)\n",
        "              continue\n",
        "      return np.array(img), np.array(label)\n",
        "    else:\n",
        "      return \"patherror\",\"patherror\"\n",
        "\n",
        "\n",
        "\n",
        "  def imgload(self,imgpath):\n",
        "    img=cv2.imread(imgpath)\n",
        "    if img is None:\n",
        "      print(f\"Failed to load image at {imgpath}\")\n",
        "      return None\n",
        "    img=cv2.resize(img,(20,20))\n",
        "    # v imp, usually 224*224 but here 20*20 \"downsampling or using a smaller image resolution before flattening it.\"\n",
        "    img=cv2.cvtColor(img,cv2.COLOR_BGR2GRAY)\n",
        "    img=img.astype('float32')/255.0\n",
        "    img_array=np.array(img)\n",
        "    return img_array"
      ],
      "metadata": {
        "id": "lA6JAL9wvqSu"
      },
      "execution_count": 92,
      "outputs": []
    },
    {
      "cell_type": "code",
      "source": [
        "drive=driveFile('/content/drive')\n",
        "images,labels=drive.dataload('MyDrive/train_set')\n",
        "\n",
        "# 1d\n"
      ],
      "metadata": {
        "id": "s7h8-3JZwCp7",
        "outputId": "954d9c92-f1bc-4efc-bbda-39c962e45cb2",
        "colab": {
          "base_uri": "https://localhost:8080/"
        }
      },
      "execution_count": 93,
      "outputs": [
        {
          "output_type": "stream",
          "name": "stdout",
          "text": [
            "Mounted at /content/drive\n",
            "Skipping invalid path or .DS_Store: /content/drive/MyDrive/train_set/BA- cellulitis\n",
            "Skipping invalid path or .DS_Store: /content/drive/MyDrive/train_set/FU-athlete-foot\n"
          ]
        }
      ]
    },
    {
      "cell_type": "code",
      "source": [
        "class train:\n",
        "  def __init__(self,X,w,b,Y,learning_rate,batch_size,epochs):\n",
        "    self.X=X\n",
        "    self.w=w\n",
        "    self.b=b\n",
        "    self.y=Y\n",
        "    self.learning_rate=learning_rate\n",
        "    self.batch_size=batch_size\n",
        "    self.epoch=epochs\n",
        "    self.training()\n",
        "\n",
        "  def perceptron(self,mini_x):\n",
        "    y_linearop=np.dot(mini_x,self.w)+self.b\n",
        "        #unbounded\n",
        "    return y_linearop\n",
        "\n",
        "  def sigmoid(self,mini_X):#activatn fn\n",
        "    y_predprob=1/(1+np.exp(-self.perceptron(mini_X)))\n",
        "    return y_predprob\n",
        "\n",
        "  def binary_cross_entropy(self,mini_x,mini_y):\n",
        "     self.y_pred=self.sigmoid(mini_x)\n",
        "     self.y_pred = np.clip(self.y_pred, 1e-10, 1 - 1e-10)  # Prevent extreme values\n",
        "     self.loss=-np.mean((mini_y*np.log(self.y_pred))+((1-mini_y)*np.log(1-self.y_pred)))\n",
        "     return self.loss\n",
        "\n",
        "  def backward_prop(self,mini_X,mini_y):\n",
        "    dloss_dy_pred=-(mini_y/self.y_pred)+((1-mini_y)/(1-self.y_pred))\n",
        "    dsigm_dlinearoutput=self.y_pred*(1-self.y_pred)\n",
        "    #bcz dsigmoid/dz=sigmod-sigmoid^2\n",
        "    dloss_dlinearoutput=dloss_dy_pred*dsigm_dlinearoutput\n",
        "    # (f(g(x)))`=f`(g(x))g'(x)\n",
        "\n",
        "    self.dw = np.dot(mini_X.T, dloss_dlinearoutput) / mini_X.shape[0]\n",
        "    self.db = np.mean(dloss_dlinearoutput)\n",
        "    self.update_para()\n",
        "\n",
        "\n",
        "  def update_para(self):\n",
        "    self.w -= self.learning_rate * self.dw\n",
        "    self.b -= self.learning_rate * self.db\n",
        "\n",
        "  def training(self):\n",
        "    num_images=self.X.shape[0]\n",
        "    for epoch in range(self.epoch):\n",
        "      # shuffling\n",
        "      index=np.arange(num_images)\n",
        "      np.random.shuffle(index)\n",
        "      self.X=self.X[index]\n",
        "      self.y=self.y[index]\n",
        "      for i in range(0,num_images,self.batch_size):\n",
        "        if(i+self.batch_size>num_images):\n",
        "          X_batch=self.X[i:i+num_images]\n",
        "          y_batch=self.y[i:i+num_images]\n",
        "        else:\n",
        "          X_batch=self.X[i:i+self.batch_size]\n",
        "          y_batch=self.y[i:i+self.batch_size]\n",
        "\n",
        "        loss=self.binary_cross_entropy(X_batch,y_batch)\n",
        "        print(f\"loss {loss} for mini batch {i // self.batch_size+1} in epoch: {epoch}\")\n",
        "        self.backward_prop(X_batch,y_batch)\n",
        "\n"
      ],
      "metadata": {
        "id": "bFX9uOLLxYAe"
      },
      "execution_count": 94,
      "outputs": []
    },
    {
      "cell_type": "code",
      "source": [
        "print(images.shape)\n",
        "print(labels.shape)\n",
        "images=np.array([img.flatten() for img in images])\n",
        "# images=np.array([img.reshape(-1,1) for img in images])\n",
        "print(images.shape)\n",
        "labels=np.array([1 if label=='BA- cellulitis' else 0 for label in labels])\n",
        "# ba-cellulitis 1, foot 0\n",
        "\n",
        "\n",
        "# # imgs=[img1,\n",
        "# # img2,\n",
        "# # img3,\n",
        "# #\n",
        "# #\n",
        "# # img200]\n",
        "\n"
      ],
      "metadata": {
        "id": "ExTwJoxu1udZ",
        "outputId": "dc5cfe75-3425-4ed3-ee8a-82907035d59a",
        "colab": {
          "base_uri": "https://localhost:8080/"
        }
      },
      "execution_count": 95,
      "outputs": [
        {
          "output_type": "stream",
          "name": "stdout",
          "text": [
            "(197, 20, 20)\n",
            "(197,)\n",
            "(197, 400)\n"
          ]
        }
      ]
    },
    {
      "cell_type": "markdown",
      "source": [
        "1D Array (Shape (400,)):\n",
        "\n",
        "In a 1D array, NumPy doesn't explicitly distinguish between rows and columns. It's just a sequence of 400 elements along a single axis (the x-axis).\n",
        "When you perform element-wise operations, such as scalar multiplication, it operates directly on each element because NumPy sees it as a single dimension (or vector).\n",
        "2D Array (Shape (400, 1)):\n",
        "\n",
        "Here, NumPy treats it as a column vector. The shape (400, 1) has two axes: the first axis (rows) has 400 elements, and the second axis (columns) has 1 element.\n",
        "Even though there is only one column, it's a 2D structure. When performing element-wise operations, NumPy knows it needs to perform operations on a 2D grid (or matrix)."
      ],
      "metadata": {
        "id": "i622SBbL5666"
      }
    },
    {
      "cell_type": "code",
      "source": [
        "class model(train):\n",
        "  def __init__(self,X,w,b,Y,learning_rate,batch_size,epochs):\n",
        "    super().__init__(X,w,b,Y,learning_rate,batch_size,epochs)\n",
        "  def evaluate(self,X,y):\n",
        "    print(f\"loss={self.binary_cross_entropy(X,y)}\")\n",
        "  def prediction(self,X,y):\n",
        "    pred=self.sigmoid(X)\n",
        "    pred_op=(pred>=0.5).astype(int)\n",
        "    return pred_op\n",
        "  def accuracy(self,X,y):\n",
        "    pred_op=self.prediction(X,y)\n",
        "    predictions=np.mean(pred_op==y)\n",
        "    acc=np.mean(predictions)\n",
        "    print(acc)\n"
      ],
      "metadata": {
        "id": "eRp91SxIxP-R"
      },
      "execution_count": 96,
      "outputs": []
    },
    {
      "cell_type": "code",
      "source": [
        "w=np.random.randn(images.shape[1],)*0.01\n",
        "b=0\n",
        "learning_rate=0.5\n",
        "epochs=10\n",
        "bs=8\n",
        "mymodel=model(images,w,b,labels,learning_rate,bs,epochs)"
      ],
      "metadata": {
        "id": "A-y5Uki23Gr0"
      },
      "execution_count": null,
      "outputs": []
    },
    {
      "cell_type": "code",
      "source": [
        "testimages,testlabels=drive.dataload('MyDrive/test_set')"
      ],
      "metadata": {
        "id": "VEIFDKoh1GUe",
        "outputId": "dadaa5ee-7655-4d92-b7da-e64e752fae21",
        "colab": {
          "base_uri": "https://localhost:8080/"
        }
      },
      "execution_count": 98,
      "outputs": [
        {
          "output_type": "stream",
          "name": "stdout",
          "text": [
            "Skipping invalid path or .DS_Store: /content/drive/MyDrive/test_set/BA- cellulitis\n",
            "Skipping invalid path or .DS_Store: /content/drive/MyDrive/test_set/FU-athlete-foot\n"
          ]
        }
      ]
    },
    {
      "cell_type": "code",
      "source": [
        "testimages=np.array([img.flatten() for img in testimages])\n",
        "testlabels=np.array([1 if label=='BA- cellulitis' else 0 for label in testlabels])\n",
        "mymodel.accuracy(testimages,testlabels)\n"
      ],
      "metadata": {
        "id": "9BeLkAik24iu",
        "outputId": "9726795a-a215-4d90-917d-3d6ca1fd7e42",
        "colab": {
          "base_uri": "https://localhost:8080/"
        }
      },
      "execution_count": 99,
      "outputs": [
        {
          "output_type": "stream",
          "name": "stdout",
          "text": [
            "0.5076923076923077\n"
          ]
        }
      ]
    }
  ],
  "metadata": {
    "colab": {
      "provenance": [],
      "include_colab_link": true
    },
    "kernelspec": {
      "display_name": "Python 3",
      "name": "python3"
    }
  },
  "nbformat": 4,
  "nbformat_minor": 0
}