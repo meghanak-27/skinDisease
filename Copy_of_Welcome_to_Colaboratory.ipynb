{
  "cells": [
    {
      "cell_type": "code",
      "source": [
        "!git clone https://github.com/meghanak-27/skinDisease.git\n",
        "%cd skinDisease"
      ],
      "metadata": {
        "colab": {
          "base_uri": "https://localhost:8080/"
        },
        "id": "JTzbhozf_1yO",
        "outputId": "41b15929-e2d6-4adb-af66-45db53f60d65"
      },
      "execution_count": null,
      "outputs": [
        {
          "output_type": "stream",
          "name": "stdout",
          "text": [
            "Cloning into 'skinDisease'...\n",
            "remote: Enumerating objects: 12, done.\u001b[K\n",
            "remote: Counting objects: 100% (12/12), done.\u001b[K\n",
            "remote: Compressing objects: 100% (10/10), done.\u001b[K\n",
            "remote: Total 12 (delta 3), reused 0 (delta 0), pack-reused 0 (from 0)\u001b[K\n",
            "Receiving objects: 100% (12/12), 5.42 KiB | 505.00 KiB/s, done.\n",
            "Resolving deltas: 100% (3/3), done.\n",
            "/content/skinDisease\n"
          ]
        }
      ]
    },
    {
      "cell_type": "code",
      "source": [
        "import numpy as np\n",
        "def perceptron(x,w,b):\n",
        "  y_linearop=np.dot(x,w)+b\n",
        "  # unbounded and doesn't provide much information in terms of probabilities.\n",
        "  return y_linearop\n",
        "x=np.random.randn(10)\n",
        "w=np.random.randn(10)\n",
        "b=0.3\n",
        "y=perceptron(x,w,b)\n",
        "print(y)"
      ],
      "metadata": {
        "colab": {
          "base_uri": "https://localhost:8080/"
        },
        "id": "fakf1wxDCfvQ",
        "outputId": "6cea648b-a74f-45c4-fdd3-cac9783dcb8e"
      },
      "execution_count": null,
      "outputs": [
        {
          "output_type": "stream",
          "name": "stdout",
          "text": [
            "0.354400875272922\n"
          ]
        }
      ]
    },
    {
      "cell_type": "code",
      "source": [
        "# activatn fn\n",
        "def sigmoid(y_linearop):\n",
        "  prob=1/(1+np.exp(-y_linearop))\n",
        "  return prob\n",
        "y_predprob=sigmoid(y)\n",
        "print(y_predprob)"
      ],
      "metadata": {
        "colab": {
          "base_uri": "https://localhost:8080/"
        },
        "id": "uvv40BCrOevn",
        "outputId": "2e973e9c-c432-4a37-9dcc-6529ec179c00"
      },
      "execution_count": null,
      "outputs": [
        {
          "output_type": "stream",
          "name": "stdout",
          "text": [
            "0.587684371331084\n"
          ]
        }
      ]
    },
    {
      "cell_type": "code",
      "source": [
        "# learn disadv of mse\n",
        "# loss\n",
        "def binary_cross_entropy(y,y_pred):\n",
        "  epsilon=1e-15\n",
        "  # epsilon small as such y_pred=0-->y=epsilon,y_pred=1-->1-eps\n",
        "  y_pred=np.clip(y_pred,epsilon,1-epsilon)\n",
        "  # y_pred = np.clip(y_pred, epsilon, 1 - epsilon)\n",
        "  loss=-(y*np.log(y_pred))+((1-y)*np.log(1-y_pred))\n",
        "  return loss"
      ],
      "metadata": {
        "id": "ls5arDqBP2KP"
      },
      "execution_count": null,
      "outputs": []
    },
    {
      "cell_type": "code",
      "source": [
        "loss=binary_cross_entropy(1,y_predprob)\n",
        "print(loss)"
      ],
      "metadata": {
        "colab": {
          "base_uri": "https://localhost:8080/"
        },
        "id": "l8HjTR70mNsm",
        "outputId": "1c8df675-7f83-4ae5-c132-ea0e79aafffa"
      },
      "execution_count": null,
      "outputs": [
        {
          "output_type": "stream",
          "name": "stdout",
          "text": [
            "0.5315652586538604\n"
          ]
        }
      ]
    },
    {
      "cell_type": "code",
      "source": [
        "def backward_prop(x,w,b,y_linearop,y,y_pred):\n",
        "  dloss_dy_pred=-(y/y_pred)-((1-y)/(1-y_pred))\n",
        "  dsigm_dlinearoutput=y_pred*(1-y_pred)\n",
        "  # dsigmoid/dx=sigmod-sigmoid^2\n",
        "  dloss_dlinearoutput=dloss_dy_pred*dsigm_dlinearoutput\n",
        "  # (f(g(x)))`=f`(g(x))g'(x)\n",
        "  dloss_dw=dsigm_dlinearoutput*x\n",
        "  dloss_db=dsigm_dlinearoutput*1\n",
        "  return dloss_dw,dloss_db"
      ],
      "metadata": {
        "id": "OqKtTM7IuDGB"
      },
      "execution_count": null,
      "outputs": []
    },
    {
      "cell_type": "code",
      "source": [
        "dw,db=backward_prop(x,w,b,y,1,y_predprob)\n",
        "dw,db"
      ],
      "metadata": {
        "id": "87RspQN99yaD",
        "outputId": "1e6c8ddb-ccb7-46fa-f7cf-0dbb39409008",
        "colab": {
          "base_uri": "https://localhost:8080/"
        }
      },
      "execution_count": null,
      "outputs": [
        {
          "output_type": "execute_result",
          "data": {
            "text/plain": [
              "(array([ 0.32269941, -0.16566551, -0.25197902, -0.15048622, -0.15833934,\n",
              "        -0.33919435,  0.40495912, -0.21498925,  0.06838713,  0.47680543]),\n",
              " 0.24231145102427257)"
            ]
          },
          "metadata": {},
          "execution_count": 18
        }
      ]
    },
    {
      "cell_type": "code",
      "source": [
        "def update_para(w,b,dw,db,learning_rate):\n",
        "  w -= learning_rate * dw\n",
        "  b -= learning_rate * db\n",
        "  return w,b"
      ],
      "metadata": {
        "id": "PvRkVP5XMS0Z"
      },
      "execution_count": null,
      "outputs": []
    },
    {
      "cell_type": "code",
      "source": [
        "print(w,b)\n",
        "w,b=update_para(w,b,dw,db,0.01)\n",
        "print(w,b)\n",
        "# training is completed.w,b adjustments\n"
      ],
      "metadata": {
        "colab": {
          "base_uri": "https://localhost:8080/"
        },
        "id": "tzw4is0Sig4B",
        "outputId": "f7520a3b-84b4-4599-e063-db5c447e0072"
      },
      "execution_count": null,
      "outputs": [
        {
          "output_type": "stream",
          "name": "stdout",
          "text": [
            "[ 1.45780592  1.90184791  0.24723464  0.35246669  1.13623759  1.04933243\n",
            "  1.66841127  0.79294511  0.06710681 -0.0351442 ] 0.2951537709795145\n",
            "[ 1.45457892  1.90350457  0.24975443  0.35397155  1.13782098  1.05272437\n",
            "  1.66436168  0.795095    0.06642294 -0.03991226] 0.29273065646927177\n"
          ]
        }
      ]
    },
    {
      "cell_type": "code",
      "source": [
        "class peceptron:\n",
        "  def __init__(self,x,w,b):\n",
        "    self.w=w\n",
        "    self.b=b\n",
        "    self.x=x\n",
        "  def forward_prop(self):\n",
        "    self.y_linearoutput=np.dot(self.x,self.w)+self.b\n",
        "    self.y_pred=sigmoid(self.y_linearoutput)\n",
        "    return self.y_pred\n",
        "  def sigmoid(self,linear_output):\n",
        "    prob=1/(1+np.exp(-linear_output))\n",
        "    return prob\n",
        "  def binary_cross_entropy(self):\n",
        "    epsilon=1e-15\n",
        "    self.y_pred=np.clip(self.y_pred,epsilon,1-epsilon)\n",
        "    loss=-(self.y*np.log(self.y_pred))+((1-self.y)*np.log(1-self.y_pred))\n",
        "    return loss\n",
        "  def backward_prop(self):\n",
        "    dloss_dy_pred=-(self.y/self.y_pred)-((1-self.y)/(1-self.y_pred))\n",
        "    dsigm_dlinearoutput=self.y_pred*(1-self.y_pred)\n",
        "    dloss_dlinearoutput=dloss_dy_pred*dsigm_dlinearoutput\n",
        "   # (f(g(x)))`=f`(g(x))g'(x)\n",
        "    dloss_dw=dsigm_dlinearoutput*x\n",
        "    # dloss/dw=dloss/dsigm*dsigm/dlinear_sum*dlinear_sum/dw\n",
        "    # linear sum=w1x1+w2x2+b.... dlinear_sum/dw1=x1\n",
        "    dloss_db=dsigm_dlinearoutput*1\n",
        "    # 1=dlinear_sum/db\n",
        "    return dloss_dw,dloss_db\n",
        "  def update_para(self,learning_rate):\n",
        "    self.w -= learning_rate * dw\n",
        "    self.b -= learning_rate * db\n",
        "    return self.w,self.b\n",
        "  def train():\n",
        "    pass\n",
        "# batch gradient descent or vanilla grad descent(mini batch size is also hyper para)\n",
        "# stocastic grad descent\n",
        "# one epoch"
      ],
      "metadata": {
        "id": "K5bNgVaYlAzk"
      },
      "execution_count": null,
      "outputs": []
    }
  ],
  "metadata": {
    "colab": {
      "provenance": [],
      "toc_visible": true
    },
    "kernelspec": {
      "display_name": "Python 3",
      "name": "python3"
    }
  },
  "nbformat": 4,
  "nbformat_minor": 0
}