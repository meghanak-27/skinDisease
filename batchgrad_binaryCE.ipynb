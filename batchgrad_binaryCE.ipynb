{
  "cells": [
    {
      "cell_type": "code",
      "source": [
        "!git clone https://github.com/meghanak-27/skinDisease\n"
      ],
      "metadata": {
        "id": "4w1ha7dSvVfS",
        "outputId": "37e34fc8-9853-4d67-b2db-5fdf54d074bf",
        "colab": {
          "base_uri": "https://localhost:8080/"
        }
      },
      "execution_count": 14,
      "outputs": [
        {
          "output_type": "stream",
          "name": "stdout",
          "text": [
            "fatal: destination path 'skinDisease' already exists and is not an empty directory.\n"
          ]
        }
      ]
    },
    {
      "cell_type": "code",
      "source": [
        "\n",
        "import pandas as pd\n",
        "# from PIL import Image\n",
        "import cv2\n",
        "import numpy as np\n",
        "import os\n",
        "\n",
        "\n",
        "class driveFile:\n",
        "\n",
        "  def __init__(self, mountpath):\n",
        "    import os\n",
        "    self.path = mountpath\n",
        "    from google.colab import drive\n",
        "    drive.mount(self.path, force_remount=True)\n",
        "  def dataload(self,folder_path):\n",
        "    img=[]\n",
        "    label=[]\n",
        "    import os\n",
        "    self.path1=os.path.join(self.path,folder_path)\n",
        "\n",
        "    if os.path.exists(self.path1):\n",
        "      for i in os.listdir(self.path1):\n",
        "        self.dis_path=os.path.join(self.path1,i)\n",
        "        # /content/drive/MyDrive/train_set/BA- cellulitis\n",
        "        if os.path.exists(self.dis_path) and '.DS_Store' not in self.dis_path:\n",
        "          for j in os.listdir(self.dis_path):\n",
        "           if j.endswith(('.jpg', '.png', '.jpeg')):\n",
        "              self.img_path = os.path.join(self.dis_path, j)\n",
        "              loaded_img= self.imgload(self.img_path)\n",
        "              if loaded_img is not None:\n",
        "                img.append(loaded_img)\n",
        "                label.append(i)\n",
        "              else:\n",
        "                 print(\"Skipping non-image file:\", j)\n",
        "          else:\n",
        "              print(\"Skipping invalid path or .DS_Store:\", self.dis_path)\n",
        "              continue\n",
        "      return np.array(img), np.array(label)\n",
        "    else:\n",
        "      return \"patherror\",\"patherror\"\n",
        "\n",
        "\n",
        "\n",
        "  def imgload(self,imgpath):\n",
        "    img=cv2.imread(imgpath)\n",
        "    if img is None:\n",
        "      print(f\"Failed to load image at {imgpath}\")\n",
        "      return None\n",
        "    img=cv2.resize(img,(20,20))\n",
        "    # v imp, usually 224*224 but here 20*20 \"downsampling or using a smaller image resolution before flattening it.\"\n",
        "    img=cv2.cvtColor(img,cv2.COLOR_BGR2GRAY)\n",
        "    img=img.astype('float32')/255.0\n",
        "    img_array=np.array(img)\n",
        "    return img_array"
      ],
      "metadata": {
        "id": "lA6JAL9wvqSu"
      },
      "execution_count": 15,
      "outputs": []
    },
    {
      "cell_type": "code",
      "source": [
        "drive=driveFile('/content/drive')\n",
        "images,labels=drive.dataload('MyDrive/train')\n",
        "\n",
        "# 1d\n"
      ],
      "metadata": {
        "id": "s7h8-3JZwCp7",
        "outputId": "16478bac-b277-46c3-aa5b-2d77c93e26ff",
        "colab": {
          "base_uri": "https://localhost:8080/"
        }
      },
      "execution_count": 16,
      "outputs": [
        {
          "output_type": "stream",
          "name": "stdout",
          "text": [
            "Mounted at /content/drive\n",
            "Skipping invalid path or .DS_Store: /content/drive/MyDrive/train/BA-impetigo\n",
            "Skipping invalid path or .DS_Store: /content/drive/MyDrive/train/BA- cellulitis\n"
          ]
        }
      ]
    },
    {
      "cell_type": "code",
      "source": [
        "class train:\n",
        "  def __init__(self,X,w,b,Y,learning_rate):\n",
        "    self.X=X\n",
        "    self.w=w\n",
        "    self.b=b\n",
        "    self.y=Y\n",
        "    self.learning_rate=learning_rate\n",
        "    self.sigmoid()\n",
        "    self.binary_cross_entropy()\n",
        "    self.backward_prop()\n",
        "    self.update_para()\n",
        "\n",
        "  def perceptron(self):\n",
        "    y_linearop=np.dot(self.X,self.w)+self.b\n",
        "    #unbounded\n",
        "    return y_linearop\n",
        "\n",
        "  def sigmoid(self):#activatn fn\n",
        "    y_predprob=1/(1+np.exp(-self.perceptron()))\n",
        "    self.y_pred=y_predprob\n",
        "    # print(self.y_pred)\n",
        "\n",
        "  def binary_cross_entropy(self):\n",
        "    self.y_pred = np.clip(self.y_pred, 1e-10, 1 - 1e-10)  # Prevent extreme values\n",
        "    self.loss=-np.mean((self.y*np.log(self.y_pred))+((1-self.y)*np.log(1-self.y_pred)))\n",
        "    print(self.loss)\n",
        "\n",
        "  def backward_prop(self):\n",
        "    dloss_dy_pred=-(self.y/self.y_pred)+((1-self.y)/(1-self.y_pred))\n",
        "    dsigm_dlinearoutput=self.y_pred*(1-self.y_pred)\n",
        "    # dsigmoid/dz=sigmod-sigmoid^2\n",
        "\n",
        "    dloss_dlinearoutput=dloss_dy_pred*dsigm_dlinearoutput\n",
        "    # (f(g(x)))`=f`(g(x))g'(x)\n",
        "    # dw=[]\n",
        "    # db=[]\n",
        "\n",
        "    # for i in range(215):\n",
        "    #   dloss_dw=dsigm_dlinearoutput[i]*self.X[i]\n",
        "    #   dloss_db=dsigm_dlinearoutput[i]*1\n",
        "    #   dw.append(dloss_dw)\n",
        "    #   db.append(dloss_db)\n",
        "\n",
        "    self.dw = np.dot(self.X.T, dloss_dlinearoutput) / self.X.shape[0]\n",
        "    self.db = np.mean(dloss_dlinearoutput)\n",
        "\n",
        "\n",
        "  def update_para(self):\n",
        "    self.w -= self.learning_rate * self.dw\n",
        "    self.b -= self.learning_rate * self.db\n"
      ],
      "metadata": {
        "id": "bFX9uOLLxYAe"
      },
      "execution_count": 17,
      "outputs": []
    },
    {
      "cell_type": "code",
      "source": [
        "print(images.shape)\n",
        "print(labels.shape)\n",
        "images=np.array([img.flatten() for img in images])\n",
        "# images=np.array([img.reshape(-1,1) for img in images])\n",
        "print(images.shape)\n",
        "labels=np.array([1 if label=='BA- cellulitis' else 0 for label in labels])\n",
        "print(labels.shape)\n",
        "# ba-cellulitis 1, foot 0\n",
        "\n",
        "\n",
        "# imgs=[img1,\n",
        "# img2,\n",
        "# img3,\n",
        "#\n",
        "#\n",
        "# img200]\n"
      ],
      "metadata": {
        "id": "ExTwJoxu1udZ",
        "outputId": "4db55727-00d9-4253-8a55-6821d8780215",
        "colab": {
          "base_uri": "https://localhost:8080/"
        }
      },
      "execution_count": 18,
      "outputs": [
        {
          "output_type": "stream",
          "name": "stdout",
          "text": [
            "(215, 20, 20)\n",
            "(215,)\n",
            "(215, 400)\n",
            "(215,)\n"
          ]
        }
      ]
    },
    {
      "cell_type": "code",
      "source": [
        "w=np.random.randn(images.shape[1],)*0.01\n",
        "b=0\n",
        "w.shape"
      ],
      "metadata": {
        "id": "A-y5Uki23Gr0",
        "outputId": "e9e62c0b-c387-4d3f-bcd2-e133a8a7050d",
        "colab": {
          "base_uri": "https://localhost:8080/"
        }
      },
      "execution_count": 19,
      "outputs": [
        {
          "output_type": "execute_result",
          "data": {
            "text/plain": [
              "(400,)"
            ]
          },
          "metadata": {},
          "execution_count": 19
        }
      ]
    },
    {
      "cell_type": "code",
      "source": [
        "for i in range(100):\n",
        "  obj=train(images,w,b,labels,0.099)\n",
        "\n"
      ],
      "metadata": {
        "id": "EES-IXKX41we",
        "outputId": "93c7503b-4e52-4ab9-b6f5-6c119ab98240",
        "colab": {
          "base_uri": "https://localhost:8080/"
        }
      },
      "execution_count": 32,
      "outputs": [
        {
          "output_type": "stream",
          "name": "stdout",
          "text": [
            "0.0735524602945212\n",
            "0.07354815001870972\n",
            "0.07354384022131424\n",
            "0.07353953090225752\n",
            "0.07353522206146233\n",
            "0.07353091369885123\n",
            "0.07352660581434718\n",
            "0.0735222984078728\n",
            "0.07351799147935092\n",
            "0.0735136850287043\n",
            "0.07350937905585589\n",
            "0.0735050735607283\n",
            "0.07350076854324455\n",
            "0.07349646400332745\n",
            "0.07349215994089975\n",
            "0.07348785635588455\n",
            "0.07348355324820469\n",
            "0.07347925061778304\n",
            "0.07347494846454267\n",
            "0.07347064678840637\n",
            "0.0734663455892973\n",
            "0.07346204486713828\n",
            "0.07345774462185234\n",
            "0.07345344485336257\n",
            "0.07344914556159209\n",
            "0.07344484674646384\n",
            "0.07344054840790093\n",
            "0.07343625054582645\n",
            "0.07343195316016352\n",
            "0.07342765625083521\n",
            "0.07342335981776474\n",
            "0.07341906386087517\n",
            "0.07341476838008976\n",
            "0.07341047337533158\n",
            "0.07340617884652398\n",
            "0.07340188479359015\n",
            "0.07339759121645326\n",
            "0.07339329811503666\n",
            "0.07338900548926354\n",
            "0.07338471333905715\n",
            "0.07338042166434085\n",
            "0.07337613046503799\n",
            "0.07337183974107195\n",
            "0.07336754949236589\n",
            "0.07336325971884333\n",
            "0.0733589704204276\n",
            "0.0733546815970422\n",
            "0.07335039324861035\n",
            "0.07334610537505563\n",
            "0.07334181797630147\n",
            "0.07333753105227132\n",
            "0.07333324460288863\n",
            "0.07332895862807687\n",
            "0.07332467312775971\n",
            "0.07332038810186052\n",
            "0.07331610355030299\n",
            "0.0733118194730105\n",
            "0.07330753586990675\n",
            "0.07330325274091531\n",
            "0.07329897008595976\n",
            "0.07329468790496386\n",
            "0.07329040619785102\n",
            "0.07328612496454505\n",
            "0.07328184420496965\n",
            "0.07327756391904844\n",
            "0.07327328410670518\n",
            "0.07326900476786354\n",
            "0.07326472590244724\n",
            "0.07326044751038013\n",
            "0.07325616959158587\n",
            "0.0732518921459883\n",
            "0.07324761517351128\n",
            "0.07324333867407858\n",
            "0.073239062647614\n",
            "0.07323478709404156\n",
            "0.07323051201328488\n",
            "0.07322623740526799\n",
            "0.07322196326991479\n",
            "0.07321768960714906\n",
            "0.07321341641689498\n",
            "0.07320914369907629\n",
            "0.07320487145361707\n",
            "0.07320059968044124\n",
            "0.07319632837947278\n",
            "0.07319205755063575\n",
            "0.07318778719385423\n",
            "0.07318351730905216\n",
            "0.07317924789615365\n",
            "0.07317497895508271\n",
            "0.07317071048576355\n",
            "0.07316644248812021\n",
            "0.07316217496207689\n",
            "0.07315790790755763\n",
            "0.0731536413244866\n",
            "0.07314937521278801\n",
            "0.07314510957238608\n",
            "0.07314084440320495\n",
            "0.07313657970516886\n",
            "0.0731323154782021\n",
            "0.07312805172222886\n"
          ]
        }
      ]
    },
    {
      "cell_type": "markdown",
      "source": [
        "1D Array (Shape (400,)):\n",
        "\n",
        "In a 1D array, NumPy doesn't explicitly distinguish between rows and columns. It's just a sequence of 400 elements along a single axis (the x-axis).\n",
        "When you perform element-wise operations, such as scalar multiplication, it operates directly on each element because NumPy sees it as a single dimension (or vector).\n",
        "2D Array (Shape (400, 1)):\n",
        "\n",
        "Here, NumPy treats it as a column vector. The shape (400, 1) has two axes: the first axis (rows) has 400 elements, and the second axis (columns) has 1 element.\n",
        "Even though there is only one column, it's a 2D structure. When performing element-wise operations, NumPy knows it needs to perform operations on a 2D grid (or matrix)."
      ],
      "metadata": {
        "id": "i622SBbL5666"
      }
    }
  ],
  "metadata": {
    "colab": {
      "provenance": []
    },
    "kernelspec": {
      "display_name": "Python 3",
      "name": "python3"
    }
  },
  "nbformat": 4,
  "nbformat_minor": 0
}