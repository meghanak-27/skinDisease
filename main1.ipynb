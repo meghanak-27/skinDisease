{
  "cells": [
    {
      "cell_type": "markdown",
      "metadata": {
        "id": "view-in-github",
        "colab_type": "text"
      },
      "source": [
        "<a href=\"https://colab.research.google.com/github/meghanak-27/skinDisease/blob/main/Copy_of_Welcome_to_Colaboratory.ipynb\" target=\"_parent\"><img src=\"https://colab.research.google.com/assets/colab-badge.svg\" alt=\"Open In Colab\"/></a>"
      ]
    },
    {
      "cell_type": "code",
      "source": [
        "from google.colab import drive\n",
        "import os\n",
        "# from PIL import Image\n",
        "import cv2\n",
        "import numpy as np"
      ],
      "metadata": {
        "id": "AqLzBLu3tOrr"
      },
      "execution_count": 1,
      "outputs": []
    },
    {
      "cell_type": "code",
      "source": [
        "class driveFile:\n",
        "  def __init__(self, mountpath):\n",
        "    self.path = mountpath\n",
        "    drive.mount(self.path)\n",
        "  def dataload(self,folder_path):\n",
        "    img=[]\n",
        "    label=[]\n",
        "\n",
        "    self.path1=os.path.join(self.path,folder_path)\n",
        "\n",
        "    if os.path.exists(self.path1):\n",
        "      for i in os.listdir(self.path1):\n",
        "        self.dis_path=os.path.join(self.path1,i)\n",
        "        # /content/drive/MyDrive/train_set/BA- cellulitis\n",
        "        if os.path.exists(self.dis_path) and '.DS_Store' not in self.dis_path:\n",
        "          for j in os.listdir(self.dis_path):\n",
        "           if j.endswith(('.jpg', '.png', '.jpeg')):\n",
        "              self.img_path = os.path.join(self.dis_path, j)\n",
        "              loaded_img= self.imgload(self.img_path)\n",
        "              if loaded_img is not None:\n",
        "                img.append(loaded_img)\n",
        "                label.append(i)\n",
        "              else:\n",
        "                 print(\"Skipping non-image file:\", j)\n",
        "          else:\n",
        "              print(\"Skipping invalid path or .DS_Store:\", self.dis_path)\n",
        "              continue\n",
        "      return np.array(img), np.array(label)\n",
        "    else:\n",
        "      return \"patherror\",\"patherror\"\n",
        "\n",
        "\n",
        "\n",
        "  def imgload(self,imgpath):\n",
        "    img=cv2.imread(imgpath)\n",
        "    if img is None:\n",
        "      print(f\"Failed to load image at {imgpath}\")\n",
        "      return None\n",
        "    img=cv2.resize(img,(20,20))\n",
        "    # v imp, usually 224*224 but here 20*20 \"downsampling or using a smaller image resolution before flattening it.\"\n",
        "    img=cv2.cvtColor(img,cv2.COLOR_BGR2GRAY)\n",
        "    img=img.astype('float32')/255.0\n",
        "    img_array=np.array(img)\n",
        "    return img_array\n"
      ],
      "metadata": {
        "id": "kXy-lrritPJs"
      },
      "execution_count": 2,
      "outputs": []
    },
    {
      "cell_type": "code",
      "source": [
        "drive=driveFile('/content/drive')\n",
        "\n",
        "# drive.dataload('')"
      ],
      "metadata": {
        "id": "9MHnvHAVtW6V",
        "outputId": "955c429b-5e21-4639-abbf-6cb51bda3a25",
        "colab": {
          "base_uri": "https://localhost:8080/"
        }
      },
      "execution_count": 3,
      "outputs": [
        {
          "output_type": "stream",
          "name": "stdout",
          "text": [
            "Mounted at /content/drive\n"
          ]
        }
      ]
    },
    {
      "cell_type": "code",
      "source": [
        "ti,tl=drive.dataload('MyDrive/train_set')\n",
        "# /content/drive/MyDrive/train_set/BA- cellulitis/BA- cellulitis (1).jpeg"
      ],
      "metadata": {
        "colab": {
          "base_uri": "https://localhost:8080/"
        },
        "id": "evVNULy7vDou",
        "outputId": "097f9dd1-a21b-4de6-9484-1d69c53fefe0"
      },
      "execution_count": 4,
      "outputs": [
        {
          "output_type": "stream",
          "name": "stdout",
          "text": [
            "Skipping invalid path or .DS_Store: /content/drive/MyDrive/train_set/BA- cellulitis\n",
            "Skipping invalid path or .DS_Store: /content/drive/MyDrive/train_set/FU-athlete-foot\n"
          ]
        }
      ]
    },
    {
      "cell_type": "code",
      "source": [
        "ti.shape\n",
        "# 321 images, 244*244 pixels grayscale\n",
        "\n"
      ],
      "metadata": {
        "colab": {
          "base_uri": "https://localhost:8080/"
        },
        "id": "N0cRqBAJGyzc",
        "outputId": "3232cd51-8357-4040-9d75-75ba44ebb1ad"
      },
      "execution_count": 5,
      "outputs": [
        {
          "output_type": "execute_result",
          "data": {
            "text/plain": [
              "(197, 20, 20)"
            ]
          },
          "metadata": {},
          "execution_count": 5
        }
      ]
    },
    {
      "cell_type": "code",
      "source": [
        "import pandas as pd\n"
      ],
      "metadata": {
        "id": "b-r0glgPJBiC"
      },
      "execution_count": 6,
      "outputs": []
    },
    {
      "cell_type": "code",
      "source": [
        "\n",
        "ti[0].shape\n",
        "# 224*224"
      ],
      "metadata": {
        "colab": {
          "base_uri": "https://localhost:8080/"
        },
        "id": "8qbXJCfeKAW9",
        "outputId": "6dc6eb34-de81-428e-96ca-993228714916"
      },
      "execution_count": 7,
      "outputs": [
        {
          "output_type": "execute_result",
          "data": {
            "text/plain": [
              "(20, 20)"
            ]
          },
          "metadata": {},
          "execution_count": 7
        }
      ]
    },
    {
      "cell_type": "code",
      "source": [
        "ti_flat = [img.flatten() for img in ti]\n",
        "# The perceptron (and most neural networks) operates on vectors, not matrices.\n",
        "df = pd.DataFrame({\n",
        "    'image': ti_flat,  # Image data (NumPy arrays)\n",
        "    'label': tl   # Corresponding labels\n",
        "})\n",
        "\n",
        "disease_counts = df['label'].value_counts()\n",
        "print(disease_counts)\n"
      ],
      "metadata": {
        "colab": {
          "base_uri": "https://localhost:8080/"
        },
        "id": "aUt2lv0EKcNW",
        "outputId": "612fb2bf-bfa7-4051-bdee-f8bfd8f301df"
      },
      "execution_count": 8,
      "outputs": [
        {
          "output_type": "stream",
          "name": "stdout",
          "text": [
            "label\n",
            "FU-athlete-foot    101\n",
            "BA- cellulitis      96\n",
            "Name: count, dtype: int64\n"
          ]
        }
      ]
    },
    {
      "cell_type": "code",
      "source": [
        "ti_flat[0].shape\n",
        "ti_flat=np.array(ti_flat)\n",
        "ti_flat.shape"
      ],
      "metadata": {
        "colab": {
          "base_uri": "https://localhost:8080/"
        },
        "id": "5KBswoOAMC34",
        "outputId": "e552e497-9de1-479d-b991-88557cc2a7c5"
      },
      "execution_count": 9,
      "outputs": [
        {
          "output_type": "execute_result",
          "data": {
            "text/plain": [
              "(197, 400)"
            ]
          },
          "metadata": {},
          "execution_count": 9
        }
      ]
    },
    {
      "cell_type": "code",
      "source": [
        "w=np.random.randn(400,3)*0.01\n",
        "# (i\\p features,o\\p classes)\n",
        "b = np.zeros((1, 3))\n"
      ],
      "metadata": {
        "id": "P0zOOaw8LEaQ"
      },
      "execution_count": 10,
      "outputs": []
    },
    {
      "cell_type": "code",
      "source": [
        "sampled_df = df.groupby('label').apply(lambda x: x.sample(n=20, random_state=42) if len(x) > 20 else x)\n",
        "sampled_df = sampled_df.reset_index(drop=True)"
      ],
      "metadata": {
        "id": "ot-nULXWK6-X",
        "colab": {
          "base_uri": "https://localhost:8080/"
        },
        "outputId": "92f96e50-8c21-451d-b504-fea0419dc1a0"
      },
      "execution_count": 11,
      "outputs": [
        {
          "output_type": "stream",
          "name": "stderr",
          "text": [
            "<ipython-input-11-63a0030ad8ff>:1: DeprecationWarning: DataFrameGroupBy.apply operated on the grouping columns. This behavior is deprecated, and in a future version of pandas the grouping columns will be excluded from the operation. Either pass `include_groups=False` to exclude the groupings or explicitly select the grouping columns after groupby to silence this warning.\n",
            "  sampled_df = df.groupby('label').apply(lambda x: x.sample(n=20, random_state=42) if len(x) > 20 else x)\n"
          ]
        }
      ]
    },
    {
      "cell_type": "code",
      "source": [
        "images20=np.array(sampled_df['image'])\n",
        "images20.size"
      ],
      "metadata": {
        "colab": {
          "base_uri": "https://localhost:8080/"
        },
        "id": "BQwdkcacL_Qr",
        "outputId": "dc19fe45-759f-4210-aa90-618e4e119c08"
      },
      "execution_count": 12,
      "outputs": [
        {
          "output_type": "execute_result",
          "data": {
            "text/plain": [
              "40"
            ]
          },
          "metadata": {},
          "execution_count": 12
        }
      ]
    },
    {
      "cell_type": "code",
      "source": [
        "def sigmoid(x):\n",
        "    return 1 / (1 + np.exp(-x))\n",
        "def forward_propagation(X, W, b):\n",
        "    Z = np.dot(X, W) + b\n",
        "    A = sigmoid(Z)\n",
        "    return A  # A is the output of the sigmoid activation (probabilities)\n",
        "def compute_cost(A, Y):\n",
        "    m = Y.shape[0]  # Number of training examples\n",
        "    # Cross-entropy cost\n",
        "    cost = -np.sum(Y * np.log(A) + (1 - Y) * np.log(1 - A)) / m\n",
        "    return cost\n"
      ],
      "metadata": {
        "id": "f4XF_uy0OjtW"
      },
      "execution_count": 13,
      "outputs": []
    }
  ],
  "metadata": {
    "colab": {
      "provenance": [],
      "include_colab_link": true
    },
    "kernelspec": {
      "display_name": "Python 3",
      "name": "python3"
    }
  },
  "nbformat": 4,
  "nbformat_minor": 0
}
