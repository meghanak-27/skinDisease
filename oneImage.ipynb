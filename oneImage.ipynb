{
  "cells": [
    {
      "cell_type": "code",
      "source": [
        "from google.colab import drive\n",
        "\n",
        "# from PIL import Image\n",
        "import cv2\n",
        "import numpy as np"
      ],
      "metadata": {
        "id": "AqLzBLu3tOrr"
      },
      "execution_count": 11,
      "outputs": []
    },
    {
      "cell_type": "code",
      "source": [
        "class driveFile:\n",
        "  def __init__(self, mountpath):\n",
        "    import os\n",
        "    self.path = mountpath\n",
        "    drive.mount(self.path)\n",
        "  def dataload(self,folder_path):\n",
        "    img=[]\n",
        "    label=[]\n",
        "\n",
        "    self.path1=os.path.join(self.path,folder_path)\n",
        "\n",
        "    if os.path.exists(self.path1):\n",
        "      for i in os.listdir(self.path1):\n",
        "        self.dis_path=os.path.join(self.path1,i)\n",
        "        # /content/drive/MyDrive/train_set/BA- cellulitis\n",
        "        if os.path.exists(self.dis_path) and '.DS_Store' not in self.dis_path:\n",
        "          for j in os.listdir(self.dis_path):\n",
        "           if j.endswith(('.jpg', '.png', '.jpeg')):\n",
        "              self.img_path = os.path.join(self.dis_path, j)\n",
        "              loaded_img= self.imgload(self.img_path)\n",
        "              if loaded_img is not None:\n",
        "                img.append(loaded_img)\n",
        "                label.append(i)\n",
        "              else:\n",
        "                 print(\"Skipping non-image file:\", j)\n",
        "          else:\n",
        "              print(\"Skipping invalid path or .DS_Store:\", self.dis_path)\n",
        "              continue\n",
        "      return np.array(img), np.array(label)\n",
        "    else:\n",
        "      return \"patherror\",\"patherror\"\n",
        "\n",
        "\n",
        "\n",
        "  def imgload(self,imgpath):\n",
        "    img=cv2.imread(imgpath)\n",
        "    if img is None:\n",
        "      print(f\"Failed to load image at {imgpath}\")\n",
        "      return None\n",
        "    img=cv2.resize(img,(20,20))\n",
        "    # v imp, usually 224*224 but here 20*20 \"downsampling or using a smaller image resolution before flattening it.\"\n",
        "    img=cv2.cvtColor(img,cv2.COLOR_BGR2GRAY)\n",
        "    img=img.astype('float32')/255.0\n",
        "    img_array=np.array(img)\n",
        "    return img_array\n"
      ],
      "metadata": {
        "id": "kXy-lrritPJs"
      },
      "execution_count": 12,
      "outputs": []
    },
    {
      "cell_type": "code",
      "source": [
        "drive=driveFile('/content/drive')\n",
        "ti,tl=drive.dataload('MyDrive/train_set')\n",
        "# drive.dataload('')"
      ],
      "metadata": {
        "id": "9MHnvHAVtW6V",
        "outputId": "2f0b0f7a-a526-4f2f-dfde-b66419c1bd22",
        "colab": {
          "base_uri": "https://localhost:8080/"
        }
      },
      "execution_count": 13,
      "outputs": [
        {
          "output_type": "stream",
          "name": "stdout",
          "text": [
            "Drive already mounted at /content/drive; to attempt to forcibly remount, call drive.mount(\"/content/drive\", force_remount=True).\n",
            "Skipping invalid path or .DS_Store: /content/drive/MyDrive/train_set/BA- cellulitis\n",
            "Skipping invalid path or .DS_Store: /content/drive/MyDrive/train_set/FU-athlete-foot\n"
          ]
        }
      ]
    },
    {
      "cell_type": "code",
      "source": [
        "print(ti.shape)\n",
        "# 321 images, 244*244 pixels grayscale\n",
        "print(ti[0].shape)\n",
        "# 224*224\n",
        "ti_flat = np.array([img.flatten() for img in ti])\n",
        "# The perceptron (and most neural networks) operates on vectors, not matrices.\n",
        "print(ti_flat[0].shape)"
      ],
      "metadata": {
        "colab": {
          "base_uri": "https://localhost:8080/"
        },
        "id": "N0cRqBAJGyzc",
        "outputId": "7185f01a-f215-4c69-b754-cdee5bd7f9e8"
      },
      "execution_count": 14,
      "outputs": [
        {
          "output_type": "stream",
          "name": "stdout",
          "text": [
            "(197, 20, 20)\n",
            "(20, 20)\n",
            "(400,)\n"
          ]
        }
      ]
    },
    {
      "cell_type": "code",
      "source": [
        "import pandas as pd\n",
        "df = pd.DataFrame({\n",
        "    'image': ti_flat.tolist(),  # Image data (NumPy arrays)\n",
        "    'label': tl   # Corresponding labels\n",
        "})\n",
        "\n",
        "disease_counts = df['label'].value_counts()\n",
        "print(disease_counts)\n",
        "df=pd.concat([df,pd.get_dummies(df['label'])],axis=1).replace([True,False],[1,0]).drop('label',axis=1)\n",
        "df.tail()"
      ],
      "metadata": {
        "id": "b-r0glgPJBiC",
        "colab": {
          "base_uri": "https://localhost:8080/",
          "height": 330
        },
        "outputId": "0e0c853c-0198-46be-90aa-618dfa48491e"
      },
      "execution_count": 15,
      "outputs": [
        {
          "output_type": "stream",
          "name": "stdout",
          "text": [
            "label\n",
            "FU-athlete-foot    101\n",
            "BA- cellulitis      96\n",
            "Name: count, dtype: int64\n"
          ]
        },
        {
          "output_type": "stream",
          "name": "stderr",
          "text": [
            "<ipython-input-15-3a8501e5a8ea>:9: FutureWarning: Downcasting behavior in `replace` is deprecated and will be removed in a future version. To retain the old behavior, explicitly call `result.infer_objects(copy=False)`. To opt-in to the future behavior, set `pd.set_option('future.no_silent_downcasting', True)`\n",
            "  df=pd.concat([df,pd.get_dummies(df['label'])],axis=1).replace([True,False],[1,0]).drop('label',axis=1)\n"
          ]
        },
        {
          "output_type": "execute_result",
          "data": {
            "text/plain": [
              "                                                 image  BA- cellulitis  \\\n",
              "192  [0.47843137383461, 0.6000000238418579, 0.63529...               0   \n",
              "193  [1.0, 1.0, 0.9960784316062927, 0.9843137264251...               0   \n",
              "194  [0.9450980424880981, 0.9450980424880981, 0.937...               0   \n",
              "195  [0.6666666865348816, 0.4470588266849518, 0.431...               0   \n",
              "196  [0.8941176533699036, 0.9254902005195618, 0.917...               0   \n",
              "\n",
              "     FU-athlete-foot  \n",
              "192                1  \n",
              "193                1  \n",
              "194                1  \n",
              "195                1  \n",
              "196                1  "
            ],
            "text/html": [
              "\n",
              "  <div id=\"df-783af9a9-33d1-4df1-a2a1-1430466a5594\" class=\"colab-df-container\">\n",
              "    <div>\n",
              "<style scoped>\n",
              "    .dataframe tbody tr th:only-of-type {\n",
              "        vertical-align: middle;\n",
              "    }\n",
              "\n",
              "    .dataframe tbody tr th {\n",
              "        vertical-align: top;\n",
              "    }\n",
              "\n",
              "    .dataframe thead th {\n",
              "        text-align: right;\n",
              "    }\n",
              "</style>\n",
              "<table border=\"1\" class=\"dataframe\">\n",
              "  <thead>\n",
              "    <tr style=\"text-align: right;\">\n",
              "      <th></th>\n",
              "      <th>image</th>\n",
              "      <th>BA- cellulitis</th>\n",
              "      <th>FU-athlete-foot</th>\n",
              "    </tr>\n",
              "  </thead>\n",
              "  <tbody>\n",
              "    <tr>\n",
              "      <th>192</th>\n",
              "      <td>[0.47843137383461, 0.6000000238418579, 0.63529...</td>\n",
              "      <td>0</td>\n",
              "      <td>1</td>\n",
              "    </tr>\n",
              "    <tr>\n",
              "      <th>193</th>\n",
              "      <td>[1.0, 1.0, 0.9960784316062927, 0.9843137264251...</td>\n",
              "      <td>0</td>\n",
              "      <td>1</td>\n",
              "    </tr>\n",
              "    <tr>\n",
              "      <th>194</th>\n",
              "      <td>[0.9450980424880981, 0.9450980424880981, 0.937...</td>\n",
              "      <td>0</td>\n",
              "      <td>1</td>\n",
              "    </tr>\n",
              "    <tr>\n",
              "      <th>195</th>\n",
              "      <td>[0.6666666865348816, 0.4470588266849518, 0.431...</td>\n",
              "      <td>0</td>\n",
              "      <td>1</td>\n",
              "    </tr>\n",
              "    <tr>\n",
              "      <th>196</th>\n",
              "      <td>[0.8941176533699036, 0.9254902005195618, 0.917...</td>\n",
              "      <td>0</td>\n",
              "      <td>1</td>\n",
              "    </tr>\n",
              "  </tbody>\n",
              "</table>\n",
              "</div>\n",
              "    <div class=\"colab-df-buttons\">\n",
              "\n",
              "  <div class=\"colab-df-container\">\n",
              "    <button class=\"colab-df-convert\" onclick=\"convertToInteractive('df-783af9a9-33d1-4df1-a2a1-1430466a5594')\"\n",
              "            title=\"Convert this dataframe to an interactive table.\"\n",
              "            style=\"display:none;\">\n",
              "\n",
              "  <svg xmlns=\"http://www.w3.org/2000/svg\" height=\"24px\" viewBox=\"0 -960 960 960\">\n",
              "    <path d=\"M120-120v-720h720v720H120Zm60-500h600v-160H180v160Zm220 220h160v-160H400v160Zm0 220h160v-160H400v160ZM180-400h160v-160H180v160Zm440 0h160v-160H620v160ZM180-180h160v-160H180v160Zm440 0h160v-160H620v160Z\"/>\n",
              "  </svg>\n",
              "    </button>\n",
              "\n",
              "  <style>\n",
              "    .colab-df-container {\n",
              "      display:flex;\n",
              "      gap: 12px;\n",
              "    }\n",
              "\n",
              "    .colab-df-convert {\n",
              "      background-color: #E8F0FE;\n",
              "      border: none;\n",
              "      border-radius: 50%;\n",
              "      cursor: pointer;\n",
              "      display: none;\n",
              "      fill: #1967D2;\n",
              "      height: 32px;\n",
              "      padding: 0 0 0 0;\n",
              "      width: 32px;\n",
              "    }\n",
              "\n",
              "    .colab-df-convert:hover {\n",
              "      background-color: #E2EBFA;\n",
              "      box-shadow: 0px 1px 2px rgba(60, 64, 67, 0.3), 0px 1px 3px 1px rgba(60, 64, 67, 0.15);\n",
              "      fill: #174EA6;\n",
              "    }\n",
              "\n",
              "    .colab-df-buttons div {\n",
              "      margin-bottom: 4px;\n",
              "    }\n",
              "\n",
              "    [theme=dark] .colab-df-convert {\n",
              "      background-color: #3B4455;\n",
              "      fill: #D2E3FC;\n",
              "    }\n",
              "\n",
              "    [theme=dark] .colab-df-convert:hover {\n",
              "      background-color: #434B5C;\n",
              "      box-shadow: 0px 1px 3px 1px rgba(0, 0, 0, 0.15);\n",
              "      filter: drop-shadow(0px 1px 2px rgba(0, 0, 0, 0.3));\n",
              "      fill: #FFFFFF;\n",
              "    }\n",
              "  </style>\n",
              "\n",
              "    <script>\n",
              "      const buttonEl =\n",
              "        document.querySelector('#df-783af9a9-33d1-4df1-a2a1-1430466a5594 button.colab-df-convert');\n",
              "      buttonEl.style.display =\n",
              "        google.colab.kernel.accessAllowed ? 'block' : 'none';\n",
              "\n",
              "      async function convertToInteractive(key) {\n",
              "        const element = document.querySelector('#df-783af9a9-33d1-4df1-a2a1-1430466a5594');\n",
              "        const dataTable =\n",
              "          await google.colab.kernel.invokeFunction('convertToInteractive',\n",
              "                                                    [key], {});\n",
              "        if (!dataTable) return;\n",
              "\n",
              "        const docLinkHtml = 'Like what you see? Visit the ' +\n",
              "          '<a target=\"_blank\" href=https://colab.research.google.com/notebooks/data_table.ipynb>data table notebook</a>'\n",
              "          + ' to learn more about interactive tables.';\n",
              "        element.innerHTML = '';\n",
              "        dataTable['output_type'] = 'display_data';\n",
              "        await google.colab.output.renderOutput(dataTable, element);\n",
              "        const docLink = document.createElement('div');\n",
              "        docLink.innerHTML = docLinkHtml;\n",
              "        element.appendChild(docLink);\n",
              "      }\n",
              "    </script>\n",
              "  </div>\n",
              "\n",
              "\n",
              "<div id=\"df-5ff83d3a-59f1-4936-9ee5-1e4b3cf3652f\">\n",
              "  <button class=\"colab-df-quickchart\" onclick=\"quickchart('df-5ff83d3a-59f1-4936-9ee5-1e4b3cf3652f')\"\n",
              "            title=\"Suggest charts\"\n",
              "            style=\"display:none;\">\n",
              "\n",
              "<svg xmlns=\"http://www.w3.org/2000/svg\" height=\"24px\"viewBox=\"0 0 24 24\"\n",
              "     width=\"24px\">\n",
              "    <g>\n",
              "        <path d=\"M19 3H5c-1.1 0-2 .9-2 2v14c0 1.1.9 2 2 2h14c1.1 0 2-.9 2-2V5c0-1.1-.9-2-2-2zM9 17H7v-7h2v7zm4 0h-2V7h2v10zm4 0h-2v-4h2v4z\"/>\n",
              "    </g>\n",
              "</svg>\n",
              "  </button>\n",
              "\n",
              "<style>\n",
              "  .colab-df-quickchart {\n",
              "      --bg-color: #E8F0FE;\n",
              "      --fill-color: #1967D2;\n",
              "      --hover-bg-color: #E2EBFA;\n",
              "      --hover-fill-color: #174EA6;\n",
              "      --disabled-fill-color: #AAA;\n",
              "      --disabled-bg-color: #DDD;\n",
              "  }\n",
              "\n",
              "  [theme=dark] .colab-df-quickchart {\n",
              "      --bg-color: #3B4455;\n",
              "      --fill-color: #D2E3FC;\n",
              "      --hover-bg-color: #434B5C;\n",
              "      --hover-fill-color: #FFFFFF;\n",
              "      --disabled-bg-color: #3B4455;\n",
              "      --disabled-fill-color: #666;\n",
              "  }\n",
              "\n",
              "  .colab-df-quickchart {\n",
              "    background-color: var(--bg-color);\n",
              "    border: none;\n",
              "    border-radius: 50%;\n",
              "    cursor: pointer;\n",
              "    display: none;\n",
              "    fill: var(--fill-color);\n",
              "    height: 32px;\n",
              "    padding: 0;\n",
              "    width: 32px;\n",
              "  }\n",
              "\n",
              "  .colab-df-quickchart:hover {\n",
              "    background-color: var(--hover-bg-color);\n",
              "    box-shadow: 0 1px 2px rgba(60, 64, 67, 0.3), 0 1px 3px 1px rgba(60, 64, 67, 0.15);\n",
              "    fill: var(--button-hover-fill-color);\n",
              "  }\n",
              "\n",
              "  .colab-df-quickchart-complete:disabled,\n",
              "  .colab-df-quickchart-complete:disabled:hover {\n",
              "    background-color: var(--disabled-bg-color);\n",
              "    fill: var(--disabled-fill-color);\n",
              "    box-shadow: none;\n",
              "  }\n",
              "\n",
              "  .colab-df-spinner {\n",
              "    border: 2px solid var(--fill-color);\n",
              "    border-color: transparent;\n",
              "    border-bottom-color: var(--fill-color);\n",
              "    animation:\n",
              "      spin 1s steps(1) infinite;\n",
              "  }\n",
              "\n",
              "  @keyframes spin {\n",
              "    0% {\n",
              "      border-color: transparent;\n",
              "      border-bottom-color: var(--fill-color);\n",
              "      border-left-color: var(--fill-color);\n",
              "    }\n",
              "    20% {\n",
              "      border-color: transparent;\n",
              "      border-left-color: var(--fill-color);\n",
              "      border-top-color: var(--fill-color);\n",
              "    }\n",
              "    30% {\n",
              "      border-color: transparent;\n",
              "      border-left-color: var(--fill-color);\n",
              "      border-top-color: var(--fill-color);\n",
              "      border-right-color: var(--fill-color);\n",
              "    }\n",
              "    40% {\n",
              "      border-color: transparent;\n",
              "      border-right-color: var(--fill-color);\n",
              "      border-top-color: var(--fill-color);\n",
              "    }\n",
              "    60% {\n",
              "      border-color: transparent;\n",
              "      border-right-color: var(--fill-color);\n",
              "    }\n",
              "    80% {\n",
              "      border-color: transparent;\n",
              "      border-right-color: var(--fill-color);\n",
              "      border-bottom-color: var(--fill-color);\n",
              "    }\n",
              "    90% {\n",
              "      border-color: transparent;\n",
              "      border-bottom-color: var(--fill-color);\n",
              "    }\n",
              "  }\n",
              "</style>\n",
              "\n",
              "  <script>\n",
              "    async function quickchart(key) {\n",
              "      const quickchartButtonEl =\n",
              "        document.querySelector('#' + key + ' button');\n",
              "      quickchartButtonEl.disabled = true;  // To prevent multiple clicks.\n",
              "      quickchartButtonEl.classList.add('colab-df-spinner');\n",
              "      try {\n",
              "        const charts = await google.colab.kernel.invokeFunction(\n",
              "            'suggestCharts', [key], {});\n",
              "      } catch (error) {\n",
              "        console.error('Error during call to suggestCharts:', error);\n",
              "      }\n",
              "      quickchartButtonEl.classList.remove('colab-df-spinner');\n",
              "      quickchartButtonEl.classList.add('colab-df-quickchart-complete');\n",
              "    }\n",
              "    (() => {\n",
              "      let quickchartButtonEl =\n",
              "        document.querySelector('#df-5ff83d3a-59f1-4936-9ee5-1e4b3cf3652f button');\n",
              "      quickchartButtonEl.style.display =\n",
              "        google.colab.kernel.accessAllowed ? 'block' : 'none';\n",
              "    })();\n",
              "  </script>\n",
              "</div>\n",
              "\n",
              "    </div>\n",
              "  </div>\n"
            ],
            "application/vnd.google.colaboratory.intrinsic+json": {
              "type": "dataframe",
              "summary": "{\n  \"name\": \"df\",\n  \"rows\": 5,\n  \"fields\": [\n    {\n      \"column\": \"image\",\n      \"properties\": {\n        \"dtype\": \"object\",\n        \"semantic_type\": \"\",\n        \"description\": \"\"\n      }\n    },\n    {\n      \"column\": \"BA- cellulitis\",\n      \"properties\": {\n        \"dtype\": \"number\",\n        \"std\": 0,\n        \"min\": 0,\n        \"max\": 0,\n        \"num_unique_values\": 1,\n        \"samples\": [\n          0\n        ],\n        \"semantic_type\": \"\",\n        \"description\": \"\"\n      }\n    },\n    {\n      \"column\": \"FU-athlete-foot\",\n      \"properties\": {\n        \"dtype\": \"number\",\n        \"std\": 0,\n        \"min\": 1,\n        \"max\": 1,\n        \"num_unique_values\": 1,\n        \"samples\": [\n          1\n        ],\n        \"semantic_type\": \"\",\n        \"description\": \"\"\n      }\n    }\n  ]\n}"
            }
          },
          "metadata": {},
          "execution_count": 15
        }
      ]
    },
    {
      "cell_type": "code",
      "source": [
        "def perceptron(x,w,b):\n",
        "  y_linearop=np.dot(x.T,w)+b\n",
        "  #unbounded and doesn't provide much information in terms of probabilities.\n",
        "  return y_linearop\n",
        "#activatn fn\n",
        "def sigmoid(y_linearop):\n",
        "  y_predprob=1/(1+np.exp(-y_linearop))\n",
        "  return y_predprob\n",
        "def binary_cross_entropy(y,y_pred):\n",
        "  epsilon=1e-15\n",
        "  # epsilon small as such y_pred=0-->y=epsilon,y_pred=1-->1-eps\n",
        "  y_pred=np.clip(y_pred,epsilon,1-epsilon)\n",
        "  # y_pred = np.clip(y_pred, epsilon, 1 - epsilon)\n",
        "  loss=-(y*np.log(y_pred))+((1-y)*np.log(1-y_pred))\n",
        "  return loss\n",
        "def backward_prop(x,w,b,y_linearop,y,y_pred):\n",
        "  dloss_dy_pred=-(y/y_pred)-((1-y)/(1-y_pred))\n",
        "  dsigm_dlinearoutput=y_pred*(1-y_pred)\n",
        "  # dsigmoid/dx=sigmod-sigmoid^2\n",
        "  dloss_dlinearoutput=dloss_dy_pred*dsigm_dlinearoutput\n",
        "  # (f(g(x)))`=f`(g(x))g'(x)\n",
        "  dloss_dw=dsigm_dlinearoutput*x\n",
        "  dloss_db=dsigm_dlinearoutput*1\n",
        "  return [dloss_dw,dloss_db]\n",
        "def update_para(w,b,diff,learning_rate):\n",
        "  w -= learning_rate * diff[0]\n",
        "  b -= learning_rate * diff[1]\n",
        "  return w,b"
      ],
      "metadata": {
        "id": "YGSJRTSTEqSR"
      },
      "execution_count": 16,
      "outputs": []
    },
    {
      "cell_type": "code",
      "source": [
        "def dl(x,w,b,y,learningrate):\n",
        "  y_pred=sigmoid(perceptron(x,w,b))\n",
        "  loss=binary_cross_entropy(y,y_pred)\n",
        "  w,b=update_para(w,b,backward_prop(x,w,b,perceptron(x,w,b),y,y_pred),learningrate)\n",
        "  print(loss)"
      ],
      "metadata": {
        "id": "x93z3_axF2CQ"
      },
      "execution_count": 17,
      "outputs": []
    },
    {
      "cell_type": "code",
      "source": [
        "w=np.random.randn(400,1)\n",
        "# (i\\p features,o\\p classes)\n",
        "dl(ti_flat[0].reshape(-1,1),w,0,1,0.0001)\n",
        "# b = np.zeros((1, 3))\n"
      ],
      "metadata": {
        "id": "P0zOOaw8LEaQ",
        "colab": {
          "base_uri": "https://localhost:8080/"
        },
        "outputId": "2a228713-8d14-4e4a-b436-0507f0215f3d"
      },
      "execution_count": 20,
      "outputs": [
        {
          "output_type": "stream",
          "name": "stdout",
          "text": [
            "[[15.63189689]]\n"
          ]
        }
      ]
    },
    {
      "cell_type": "code",
      "source": [
        "# sampled_df = df.groupby('label').apply(lambda x: x.sample(n=20, random_state=42) if len(x) > 20 else x)\n",
        "# sampled_df = sampled_df.reset_index(drop=True)"
      ],
      "metadata": {
        "id": "ot-nULXWK6-X"
      },
      "execution_count": null,
      "outputs": []
    },
    {
      "cell_type": "code",
      "source": [
        "# images20=np.array(sampled_df['image'])\n",
        "# images20.size"
      ],
      "metadata": {
        "id": "BQwdkcacL_Qr"
      },
      "execution_count": null,
      "outputs": []
    },
    {
      "cell_type": "code",
      "source": [
        "# def sigmoid(x):\n",
        "#     return 1 / (1 + np.exp(-x))\n",
        "# def forward_propagation(X, W, b):\n",
        "#     Z = np.dot(X, W) + b\n",
        "#     A = sigmoid(Z)\n",
        "#     return A  # A is the output of the sigmoid activation (probabilities)\n",
        "# def compute_cost(A, Y):\n",
        "#     m = Y.shape[0]  # Number of training examples\n",
        "#     # Cross-entropy cost\n",
        "#     cost = -np.sum(Y * np.log(A) + (1 - Y) * np.log(1 - A)) / m\n",
        "#     return cost\n"
      ],
      "metadata": {
        "id": "f4XF_uy0OjtW"
      },
      "execution_count": null,
      "outputs": []
    }
  ],
  "metadata": {
    "colab": {
      "provenance": []
    },
    "kernelspec": {
      "display_name": "Python 3",
      "name": "python3"
    }
  },
  "nbformat": 4,
  "nbformat_minor": 0
}