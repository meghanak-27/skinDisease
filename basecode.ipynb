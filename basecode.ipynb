{
  "cells": [
    {
      "cell_type": "markdown",
      "metadata": {
        "id": "view-in-github",
        "colab_type": "text"
      },
      "source": [
        "<a href=\"https://colab.research.google.com/github/meghanak-27/skinDisease/blob/main/basecode.ipynb\" target=\"_parent\"><img src=\"https://colab.research.google.com/assets/colab-badge.svg\" alt=\"Open In Colab\"/></a>"
      ]
    },
    {
      "cell_type": "code",
      "source": [
        "!git clone https://github.com/meghanak-27/skinDisease\n"
      ],
      "metadata": {
        "id": "4w1ha7dSvVfS",
        "outputId": "ab569b87-86c8-439c-c9d3-46396b5e8b32",
        "colab": {
          "base_uri": "https://localhost:8080/"
        }
      },
      "execution_count": 1,
      "outputs": [
        {
          "output_type": "stream",
          "name": "stdout",
          "text": [
            "Cloning into 'skinDisease'...\n",
            "remote: Enumerating objects: 24, done.\u001b[K\n",
            "remote: Counting objects: 100% (24/24), done.\u001b[K\n",
            "remote: Compressing objects: 100% (22/22), done.\u001b[K\n",
            "remote: Total 24 (delta 9), reused 0 (delta 0), pack-reused 0 (from 0)\u001b[K\n",
            "Receiving objects: 100% (24/24), 61.90 KiB | 1.32 MiB/s, done.\n",
            "Resolving deltas: 100% (9/9), done.\n"
          ]
        }
      ]
    },
    {
      "cell_type": "code",
      "source": [
        "\n",
        "import pandas as pd\n",
        "# from PIL import Image\n",
        "import cv2\n",
        "import numpy as np\n",
        "import os\n",
        "\n",
        "\n",
        "class driveFile:\n",
        "\n",
        "  def __init__(self, mountpath):\n",
        "    import os\n",
        "    self.path = mountpath\n",
        "    from google.colab import drive\n",
        "    drive.mount(self.path, force_remount=True)\n",
        "  def dataload(self,folder_path):\n",
        "    img=[]\n",
        "    label=[]\n",
        "    import os\n",
        "    self.path1=os.path.join(self.path,folder_path)\n",
        "\n",
        "    if os.path.exists(self.path1):\n",
        "      for i in os.listdir(self.path1):\n",
        "        self.dis_path=os.path.join(self.path1,i)\n",
        "        # /content/drive/MyDrive/train_set/BA- cellulitis\n",
        "        if os.path.exists(self.dis_path) and '.DS_Store' not in self.dis_path:\n",
        "          for j in os.listdir(self.dis_path):\n",
        "           if j.endswith(('.jpg', '.png', '.jpeg')):\n",
        "              self.img_path = os.path.join(self.dis_path, j)\n",
        "              loaded_img= self.imgload(self.img_path)\n",
        "              if loaded_img is not None:\n",
        "                img.append(loaded_img)\n",
        "                label.append(i)\n",
        "              else:\n",
        "                 print(\"Skipping non-image file:\", j)\n",
        "          else:\n",
        "              print(\"Skipping invalid path or .DS_Store:\", self.dis_path)\n",
        "              continue\n",
        "      return np.array(img), np.array(label)\n",
        "    else:\n",
        "      return \"patherror\",\"patherror\"\n",
        "\n",
        "\n",
        "\n",
        "  def imgload(self,imgpath):\n",
        "    img=cv2.imread(imgpath)\n",
        "    if img is None:\n",
        "      print(f\"Failed to load image at {imgpath}\")\n",
        "      return None\n",
        "    img=cv2.resize(img,(20,20))\n",
        "    # v imp, usually 224*224 but here 20*20 \"downsampling or using a smaller image resolution before flattening it.\"\n",
        "    img=cv2.cvtColor(img,cv2.COLOR_BGR2GRAY)\n",
        "    img=img.astype('float32')/255.0\n",
        "    img_array=np.array(img)\n",
        "    return img_array"
      ],
      "metadata": {
        "id": "lA6JAL9wvqSu"
      },
      "execution_count": 11,
      "outputs": []
    },
    {
      "cell_type": "code",
      "source": [
        "drive=driveFile('/content/drive')\n",
        "images,labels=drive.dataload('MyDrive/train_set')\n",
        "\n",
        "# 1d\n"
      ],
      "metadata": {
        "id": "s7h8-3JZwCp7",
        "outputId": "d8f79b03-66e0-4fc9-e938-f2b632451aee",
        "colab": {
          "base_uri": "https://localhost:8080/"
        }
      },
      "execution_count": 12,
      "outputs": [
        {
          "output_type": "stream",
          "name": "stdout",
          "text": [
            "Mounted at /content/drive\n",
            "Skipping invalid path or .DS_Store: /content/drive/MyDrive/train_set/BA- cellulitis\n",
            "Skipping invalid path or .DS_Store: /content/drive/MyDrive/train_set/FU-athlete-foot\n"
          ]
        }
      ]
    },
    {
      "cell_type": "code",
      "source": [
        "class train:\n",
        "  def __init__(self,X,w,b,Y,learning_rate,batch_size,epochs):\n",
        "    self.X=X\n",
        "    self.w=w\n",
        "    self.b=b\n",
        "    self.y=Y\n",
        "    self.learning_rate=learning_rate\n",
        "    self.forward_prop()\n",
        "    self.backward_prop()\n",
        "\n",
        "  def forward_prop(self):\n",
        "    def perceptron(self):\n",
        "      y_linearop=np.dot(self.X,self.w)+self.b\n",
        "      #unbounded\n",
        "      return y_linearop\n",
        "\n",
        "    def sigmoid(self):#activatn fn\n",
        "      y_predprob=1/(1+np.exp(-self.perceptron()))\n",
        "      self.y_pred=y_predprob\n",
        "\n",
        "\n",
        "    def binary_cross_entropy(self):\n",
        "      self.sigmoid()\n",
        "      self.y_pred = np.clip(self.y_pred, 1e-10, 1 - 1e-10)  # Prevent extreme values\n",
        "      self.loss=-np.mean((self.y*np.log(self.y_pred))+((1-self.y)*np.log(1-self.y_pred)))\n",
        "      print(self.loss)\n",
        "\n",
        "  def backward_prop(self):\n",
        "    dloss_dy_pred=-(self.y/self.y_pred)+((1-self.y)/(1-self.y_pred))\n",
        "    dsigm_dlinearoutput=self.y_pred*(1-self.y_pred)\n",
        "    #bcz dsigmoid/dz=sigmod-sigmoid^2\n",
        "    dloss_dlinearoutput=dloss_dy_pred*dsigm_dlinearoutput\n",
        "    # (f(g(x)))`=f`(g(x))g'(x)\n",
        "\n",
        "    self.dw = np.dot(self.X.T, dloss_dlinearoutput) / self.X.shape[0]\n",
        "    self.db = np.mean(dloss_dlinearoutput)\n",
        "    self.update_para()\n",
        "\n",
        "\n",
        "  def update_para(self):\n",
        "    self.w -= self.learning_rate * self.dw\n",
        "    self.b -= self.learning_rate * self.db\n"
      ],
      "metadata": {
        "id": "bFX9uOLLxYAe"
      },
      "execution_count": 13,
      "outputs": []
    },
    {
      "cell_type": "code",
      "source": [
        "print(images.shape)\n",
        "print(labels.shape)\n",
        "images=np.array([img.flatten() for img in images])\n",
        "# images=np.array([img.reshape(-1,1) for img in images])\n",
        "print(images.shape)\n",
        "labels=np.array([1 if label=='BA- cellulitis' else 0 for label in labels])\n",
        "# ba-cellulitis 1, foot 0\n",
        "\n",
        "\n",
        "# # imgs=[img1,\n",
        "# # img2,\n",
        "# # img3,\n",
        "# #\n",
        "# #\n",
        "# # img200]\n"
      ],
      "metadata": {
        "id": "ExTwJoxu1udZ",
        "outputId": "8b3240e7-8a18-4003-8c9d-7dc0953b9413",
        "colab": {
          "base_uri": "https://localhost:8080/"
        }
      },
      "execution_count": 19,
      "outputs": [
        {
          "output_type": "stream",
          "name": "stdout",
          "text": [
            "(197, 400)\n",
            "(197,)\n",
            "(197, 400)\n"
          ]
        }
      ]
    },
    {
      "cell_type": "code",
      "source": [
        "w=np.random.randn(images.shape[1],)*0.01\n",
        "b=0\n",
        "learning_rate=0.5\n",
        "for i in images:\n",
        "  model=train(X,w,b,Y,learning_rate)"
      ],
      "metadata": {
        "id": "A-y5Uki23Gr0",
        "outputId": "152c63c0-22d3-4663-adab-10ef772f0b8c",
        "colab": {
          "base_uri": "https://localhost:8080/"
        }
      },
      "execution_count": 25,
      "outputs": [
        {
          "output_type": "stream",
          "name": "stdout",
          "text": [
            "-0.0001798806770322853\n"
          ]
        }
      ]
    },
    {
      "cell_type": "markdown",
      "source": [
        "1D Array (Shape (400,)):\n",
        "\n",
        "In a 1D array, NumPy doesn't explicitly distinguish between rows and columns. It's just a sequence of 400 elements along a single axis (the x-axis).\n",
        "When you perform element-wise operations, such as scalar multiplication, it operates directly on each element because NumPy sees it as a single dimension (or vector).\n",
        "2D Array (Shape (400, 1)):\n",
        "\n",
        "Here, NumPy treats it as a column vector. The shape (400, 1) has two axes: the first axis (rows) has 400 elements, and the second axis (columns) has 1 element.\n",
        "Even though there is only one column, it's a 2D structure. When performing element-wise operations, NumPy knows it needs to perform operations on a 2D grid (or matrix)."
      ],
      "metadata": {
        "id": "i622SBbL5666"
      }
    }
  ],
  "metadata": {
    "colab": {
      "provenance": [],
      "include_colab_link": true
    },
    "kernelspec": {
      "display_name": "Python 3",
      "name": "python3"
    }
  },
  "nbformat": 4,
  "nbformat_minor": 0
}